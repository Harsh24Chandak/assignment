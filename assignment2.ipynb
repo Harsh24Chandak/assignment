{
 "cells": [
  {
   "cell_type": "markdown",
   "id": "e2666239-b739-43ad-a6e9-e50acc7325f4",
   "metadata": {},
   "source": [
    "1. Create a variable `city` and assign the name of your favorite city to it. Print the variable."
   ]
  },
  {
   "cell_type": "code",
   "execution_count": 4,
   "id": "53b9fd6e-5bc1-41eb-9b1c-f0ab8f93a14f",
   "metadata": {},
   "outputs": [
    {
     "name": "stdout",
     "output_type": "stream",
     "text": [
      "Kolhapur\n"
     ]
    }
   ],
   "source": [
    "city = 'Kolhapur'\n",
    "print(city)"
   ]
  },
  {
   "cell_type": "markdown",
   "id": "2f8915cd-c976-47be-b91b-8b3a481e1aec",
   "metadata": {},
   "source": [
    "2. Print the data type of the variable `city`."
   ]
  },
  {
   "cell_type": "code",
   "execution_count": 10,
   "id": "590553b2-f8a0-4dc2-ac22-8464f45951f3",
   "metadata": {},
   "outputs": [
    {
     "name": "stdout",
     "output_type": "stream",
     "text": [
      "<class 'str'>\n"
     ]
    }
   ],
   "source": [
    "print(type(city))"
   ]
  },
  {
   "cell_type": "markdown",
   "id": "2a821ad0-a652-44cc-98f2-706ac6386c03",
   "metadata": {},
   "source": [
    "3. Convert the integer `42` to a string and assign it to a new variable. Print the new variable."
   ]
  },
  {
   "cell_type": "code",
   "execution_count": 12,
   "id": "a4162be6-abb7-4658-8343-0f2a8c14565b",
   "metadata": {},
   "outputs": [
    {
     "name": "stdout",
     "output_type": "stream",
     "text": [
      "42\n"
     ]
    }
   ],
   "source": [
    "number = 42\n",
    "str_num = str(number)\n",
    "print(str_num)"
   ]
  },
  {
   "cell_type": "markdown",
   "id": "d1ea952b-7a38-4e26-b586-50c6eec6bd6d",
   "metadata": {},
   "source": [
    "4. Use len() on your name variable and count lenght of your name"
   ]
  },
  {
   "cell_type": "code",
   "execution_count": 20,
   "id": "d1a8afc5-1f7e-40e3-a0d3-7233ac9ed4c8",
   "metadata": {},
   "outputs": [
    {
     "name": "stdout",
     "output_type": "stream",
     "text": [
      "5\n"
     ]
    }
   ],
   "source": [
    "name = \"harsh\"\n",
    "name_len = len(name)\n",
    "print(name_len)\n"
   ]
  },
  {
   "cell_type": "markdown",
   "id": "91f699a5-8331-4000-a13c-858032a6008c",
   "metadata": {},
   "source": [
    "5. use \" if \" statement to to check \"code\" word exist or not in \" code square\""
   ]
  },
  {
   "cell_type": "code",
   "execution_count": 24,
   "id": "aab935aa-1d95-45e8-967e-0e2ee56662c0",
   "metadata": {},
   "outputs": [
    {
     "name": "stdout",
     "output_type": "stream",
     "text": [
      "yes\n"
     ]
    }
   ],
   "source": [
    "n = \"code square\"\n",
    "if('code' in n):\n",
    "    print(\"yes\")\n",
    "else:\n",
    "    print(\"No\")"
   ]
  },
  {
   "cell_type": "code",
   "execution_count": null,
   "id": "4ece478e-1b2e-420e-8b12-ab796046b9fc",
   "metadata": {},
   "outputs": [],
   "source": []
  }
 ],
 "metadata": {
  "kernelspec": {
   "display_name": "Python 3 (ipykernel)",
   "language": "python",
   "name": "python3"
  },
  "language_info": {
   "codemirror_mode": {
    "name": "ipython",
    "version": 3
   },
   "file_extension": ".py",
   "mimetype": "text/x-python",
   "name": "python",
   "nbconvert_exporter": "python",
   "pygments_lexer": "ipython3",
   "version": "3.12.3"
  }
 },
 "nbformat": 4,
 "nbformat_minor": 5
}
