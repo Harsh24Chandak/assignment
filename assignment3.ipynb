{
 "cells": [
  {
   "cell_type": "markdown",
   "id": "3ebcfda5-b40f-463e-9ae5-b53f685ef8c7",
   "metadata": {},
   "source": [
    "demonstrate the use of the following arithmetic operators in Python on any numbers:\n",
    "\n",
    "\n",
    " Addition, Subtraction, Multiplication, Division, Modulus, Exponentiation, Floor Division.\n",
    "\n"
   ]
  },
  {
   "cell_type": "code",
   "execution_count": 2,
   "id": "03b3888f-12f6-4077-92e8-c25b531438ea",
   "metadata": {},
   "outputs": [
    {
     "data": {
      "text/plain": [
       "15"
      ]
     },
     "execution_count": 2,
     "metadata": {},
     "output_type": "execute_result"
    }
   ],
   "source": [
    "# Ans\n",
    "a = 10\n",
    "b = 5\n",
    "a + b"
   ]
  },
  {
   "cell_type": "code",
   "execution_count": 4,
   "id": "3f7ae171-a5f3-4034-80a0-d6f234ffd8a9",
   "metadata": {},
   "outputs": [
    {
     "data": {
      "text/plain": [
       "50"
      ]
     },
     "execution_count": 4,
     "metadata": {},
     "output_type": "execute_result"
    }
   ],
   "source": [
    "a * b"
   ]
  },
  {
   "cell_type": "code",
   "execution_count": 6,
   "id": "0b3c58a4-938b-41ce-a10d-8f4f5bbb6eb8",
   "metadata": {},
   "outputs": [
    {
     "data": {
      "text/plain": [
       "2.0"
      ]
     },
     "execution_count": 6,
     "metadata": {},
     "output_type": "execute_result"
    }
   ],
   "source": [
    "a / b"
   ]
  },
  {
   "cell_type": "code",
   "execution_count": 8,
   "id": "a48d3e5d-8c3c-42f8-bf07-15b80e2d851b",
   "metadata": {},
   "outputs": [
    {
     "data": {
      "text/plain": [
       "5"
      ]
     },
     "execution_count": 8,
     "metadata": {},
     "output_type": "execute_result"
    }
   ],
   "source": [
    "a - b "
   ]
  },
  {
   "cell_type": "code",
   "execution_count": 10,
   "id": "d2ab9517-43c9-4684-8c98-4f8875be3255",
   "metadata": {},
   "outputs": [
    {
     "data": {
      "text/plain": [
       "0"
      ]
     },
     "execution_count": 10,
     "metadata": {},
     "output_type": "execute_result"
    }
   ],
   "source": [
    "a % b"
   ]
  },
  {
   "cell_type": "code",
   "execution_count": 12,
   "id": "4f7e235d-9d54-4a6f-83e0-33db75d57e4c",
   "metadata": {},
   "outputs": [
    {
     "data": {
      "text/plain": [
       "15"
      ]
     },
     "execution_count": 12,
     "metadata": {},
     "output_type": "execute_result"
    }
   ],
   "source": [
    "a ^ b"
   ]
  },
  {
   "cell_type": "markdown",
   "id": "7393184f-5419-403d-91a9-e169d79f1160",
   "metadata": {},
   "source": [
    "Write Python expressions using comparison operators (less than, greater than, equal to, not equal to) and evaluate them. Include examples with both numbers and strings.\r\n",
    "\r\n"
   ]
  },
  {
   "cell_type": "code",
   "execution_count": 14,
   "id": "1cba2036-be57-4de1-bf0a-defc521a5ba1",
   "metadata": {},
   "outputs": [
    {
     "data": {
      "text/plain": [
       "True"
      ]
     },
     "execution_count": 14,
     "metadata": {},
     "output_type": "execute_result"
    }
   ],
   "source": [
    "# Ans\n",
    "a = 7\n",
    "b = 8\n",
    "a <= b"
   ]
  },
  {
   "cell_type": "code",
   "execution_count": 16,
   "id": "a79b1e22-e924-4922-b0ae-6d75fea5f51a",
   "metadata": {},
   "outputs": [
    {
     "data": {
      "text/plain": [
       "True"
      ]
     },
     "execution_count": 16,
     "metadata": {},
     "output_type": "execute_result"
    }
   ],
   "source": [
    "b >= a"
   ]
  },
  {
   "cell_type": "code",
   "execution_count": 26,
   "id": "d4300442-6dc8-4b7e-a917-0ba89f14c915",
   "metadata": {},
   "outputs": [
    {
     "data": {
      "text/plain": [
       "True"
      ]
     },
     "execution_count": 26,
     "metadata": {},
     "output_type": "execute_result"
    }
   ],
   "source": [
    "a == b"
   ]
  },
  {
   "cell_type": "code",
   "execution_count": 24,
   "id": "045e5109-00c0-4014-adfb-5acfd9d6a377",
   "metadata": {},
   "outputs": [
    {
     "data": {
      "text/plain": [
       "False"
      ]
     },
     "execution_count": 24,
     "metadata": {},
     "output_type": "execute_result"
    }
   ],
   "source": [
    "a != b"
   ]
  },
  {
   "cell_type": "markdown",
   "id": "fa06ab29-fcdd-4bcc-a98c-68605d60c839",
   "metadata": {},
   "source": [
    "Create a string variable and use the ' in ' and ' not in '  keywords to check for the presence or absence of a substring within the string  EX : \" Python Is Powerfull language\".  & Print the results.\n",
    "\n"
   ]
  },
  {
   "cell_type": "code",
   "execution_count": 28,
   "id": "4506e8fa-a3fc-4785-a57e-8d81f75365c6",
   "metadata": {},
   "outputs": [
    {
     "name": "stdout",
     "output_type": "stream",
     "text": [
      "'Powerful' is present in the sentence.\n",
      "'Weak' is not present in the sentence.\n"
     ]
    }
   ],
   "source": [
    "# Create a string variable\n",
    "sentence = \"Python Is Powerful language\"\n",
    "\n",
    "# Substrings to check\n",
    "substring1 = \"Powerful\"\n",
    "substring2 = \"Weak\"\n",
    "\n",
    "# Check for presence of substring1 using 'in'\n",
    "if substring1 in sentence:\n",
    "    print(f\"'{substring1}' is present in the sentence.\")\n",
    "else:\n",
    "    print(f\"'{substring1}' is not present in the sentence.\")\n",
    "\n",
    "# Check for absence of substring2 using 'not in'\n",
    "if substring2 not in sentence:\n",
    "    print(f\"'{substring2}' is not present in the sentence.\")\n",
    "else:\n",
    "    print(f\"'{substring2}' is present in the sentence.\")\n"
   ]
  },
  {
   "cell_type": "markdown",
   "id": "b33d28d1-e41d-450a-af00-0d6ee1c5b1c4",
   "metadata": {},
   "source": [
    "Define a list with at least three elements. Use a for loop to print each element of the list."
   ]
  },
  {
   "cell_type": "code",
   "execution_count": 2,
   "id": "4cac5d28-a59f-4bc9-a3c2-027ff74517ce",
   "metadata": {},
   "outputs": [
    {
     "name": "stdout",
     "output_type": "stream",
     "text": [
      "1\n",
      "2\n",
      "3\n"
     ]
    }
   ],
   "source": [
    "list = [1, 2, 3]\n",
    "for i in list:\n",
    "    print(i)"
   ]
  },
  {
   "cell_type": "raw",
   "id": "00f1c345-22ce-4408-a08a-9b88db5da056",
   "metadata": {},
   "source": [
    "Use the range() function to print numbers from 10 to 1 using a for loop."
   ]
  },
  {
   "cell_type": "code",
   "execution_count": 16,
   "id": "d73641d5-b632-4a53-b92d-6206650e72c8",
   "metadata": {},
   "outputs": [
    {
     "name": "stdout",
     "output_type": "stream",
     "text": [
      "10\n",
      "9\n",
      "8\n",
      "7\n",
      "6\n",
      "5\n",
      "4\n",
      "3\n",
      "2\n",
      "1\n"
     ]
    }
   ],
   "source": [
    "for i in range(10, 0, -1):\n",
    "    print(i)"
   ]
  },
  {
   "cell_type": "markdown",
   "id": "1532364c-b6c2-4d83-bb85-b07afb00d27f",
   "metadata": {},
   "source": [
    "Create a string variable and demonstrate the following string methods: slicing, negative indexing, converting to uppercase converting to lowercase, stripping whitespace, replacing a substring, and splitting the string."
   ]
  },
  {
   "cell_type": "code",
   "execution_count": 42,
   "id": "afd72dd8-c878-45e1-b857-e5c0db486e70",
   "metadata": {},
   "outputs": [],
   "source": [
    "x = \"Harsh world\""
   ]
  },
  {
   "cell_type": "code",
   "execution_count": 46,
   "id": "1bf50c79-eb93-4070-90f7-27fbe0a321ef",
   "metadata": {},
   "outputs": [
    {
     "name": "stdout",
     "output_type": "stream",
     "text": [
      "h \n"
     ]
    }
   ],
   "source": [
    "print(x[4:6])"
   ]
  },
  {
   "cell_type": "code",
   "execution_count": 48,
   "id": "caecaa08-92d8-4632-b6f2-0e6c71851e3c",
   "metadata": {},
   "outputs": [
    {
     "name": "stdout",
     "output_type": "stream",
     "text": [
      " worl\n"
     ]
    }
   ],
   "source": [
    "print(x[5:-1])"
   ]
  },
  {
   "cell_type": "code",
   "execution_count": 50,
   "id": "a9e12b69-dd3a-4241-9921-f1d5edb88848",
   "metadata": {},
   "outputs": [
    {
     "data": {
      "text/plain": [
       "'HARSH WORLD'"
      ]
     },
     "execution_count": 50,
     "metadata": {},
     "output_type": "execute_result"
    }
   ],
   "source": [
    "x.upper()"
   ]
  },
  {
   "cell_type": "code",
   "execution_count": 52,
   "id": "3f7157b8-dd53-404e-8055-59a577320c23",
   "metadata": {},
   "outputs": [
    {
     "data": {
      "text/plain": [
       "'harsh world'"
      ]
     },
     "execution_count": 52,
     "metadata": {},
     "output_type": "execute_result"
    }
   ],
   "source": [
    "x.lower()"
   ]
  },
  {
   "cell_type": "code",
   "execution_count": 68,
   "id": "6ed701bd-9277-4cf2-bfd4-8f19ac655a2c",
   "metadata": {},
   "outputs": [
    {
     "name": "stdout",
     "output_type": "stream",
     "text": [
      "Harsh world\n"
     ]
    }
   ],
   "source": [
    "print(x.strip())"
   ]
  },
  {
   "cell_type": "code",
   "execution_count": 66,
   "id": "337aa739-e341-433f-b739-b084253223a2",
   "metadata": {},
   "outputs": [
    {
     "data": {
      "text/plain": [
       "'Jarsh world'"
      ]
     },
     "execution_count": 66,
     "metadata": {},
     "output_type": "execute_result"
    }
   ],
   "source": [
    "x.replace(\"H\", \"J\")"
   ]
  },
  {
   "cell_type": "code",
   "execution_count": 70,
   "id": "32458c40-bd1b-4525-b748-5419632f424c",
   "metadata": {},
   "outputs": [
    {
     "data": {
      "text/plain": [
       "['Hello', ' World']"
      ]
     },
     "execution_count": 70,
     "metadata": {},
     "output_type": "execute_result"
    }
   ],
   "source": [
    "x = \"Hello, World\"\n",
    "x.split(\",\")"
   ]
  },
  {
   "cell_type": "raw",
   "id": "70f489fc-3701-475f-802d-85cbe6a84975",
   "metadata": {},
   "source": [
    "Create a list inside list with at least five elements of different data types. Print the list."
   ]
  },
  {
   "cell_type": "code",
   "execution_count": 72,
   "id": "2c5eb5f3-794f-4060-8c44-976683b2ac6f",
   "metadata": {},
   "outputs": [
    {
     "name": "stdout",
     "output_type": "stream",
     "text": [
      "[1, 'Harsh', 12.2, True, 'Har26']\n"
     ]
    }
   ],
   "source": [
    "list = [1, \"Harsh\", 12.2, True, \"Har26\"]\n",
    "print(list)"
   ]
  },
  {
   "cell_type": "code",
   "execution_count": 74,
   "id": "ccf83dec-afc9-4ecb-a241-122c2a4f17f3",
   "metadata": {},
   "outputs": [
    {
     "name": "stdout",
     "output_type": "stream",
     "text": [
      "[[1, 'hello', 3.14, True, {'key': 'value'}], 42, 'Python', [7, 8, 9], 9.81]\n"
     ]
    }
   ],
   "source": [
    "nested_list = [\n",
    "    [1, \"hello\", 3.14, True, {\"key\": \"value\"}]\n",
    "    \"Python\", \n",
    "    [7, 8, 9], \n",
    "    9.81\n",
    "]\n",
    "print(nested_list)"
   ]
  },
  {
   "cell_type": "raw",
   "id": "e5893962-3e27-4b15-be8d-ba28c2115338",
   "metadata": {},
   "source": [
    "Access and print same item from the list using both positive and negative indexing."
   ]
  },
  {
   "cell_type": "code",
   "execution_count": 80,
   "id": "5e1c56a3-781a-43b2-87e1-effcadfeac67",
   "metadata": {},
   "outputs": [],
   "source": [
    "y = \"Hello, World\""
   ]
  },
  {
   "cell_type": "code",
   "execution_count": 82,
   "id": "c4bbc8f5-2726-4a81-9789-9aea15602da2",
   "metadata": {},
   "outputs": [
    {
     "name": "stdout",
     "output_type": "stream",
     "text": [
      "o\n"
     ]
    }
   ],
   "source": [
    "print(y[4:5])"
   ]
  },
  {
   "cell_type": "code",
   "execution_count": 86,
   "id": "9195621d-9cbb-49dd-9642-6f24783dc8a7",
   "metadata": {},
   "outputs": [
    {
     "name": "stdout",
     "output_type": "stream",
     "text": [
      "o\n"
     ]
    }
   ],
   "source": [
    "print(y[4:-7])"
   ]
  },
  {
   "cell_type": "markdown",
   "id": "7f01e7a5-7b9a-48ac-9194-9fbcc1ff1b4f",
   "metadata": {},
   "source": [
    "Modify elements of a list by using the append(), insert(), remove(), pop(), and del methods. Print the list after each operation.\n"
   ]
  },
  {
   "cell_type": "code",
   "execution_count": 114,
   "id": "1b301feb-ac97-41dd-9952-6009425dffdd",
   "metadata": {},
   "outputs": [],
   "source": [
    "x = [1, 2, 3]"
   ]
  },
  {
   "cell_type": "code",
   "execution_count": 104,
   "id": "db8cc5a4-a368-478f-90da-45de28b4863f",
   "metadata": {},
   "outputs": [
    {
     "name": "stdout",
     "output_type": "stream",
     "text": [
      "[1, 2, 3, 6]\n"
     ]
    }
   ],
   "source": [
    "x.append(6)\n",
    "print(x)"
   ]
  },
  {
   "cell_type": "code",
   "execution_count": 116,
   "id": "85aff1ad-78f9-4b1f-9e17-b1bc796adbfb",
   "metadata": {},
   "outputs": [
    {
     "name": "stdout",
     "output_type": "stream",
     "text": [
      "[1, 4, 2, 3]\n"
     ]
    }
   ],
   "source": [
    "x.insert(1, 4)\n",
    "print(x)"
   ]
  },
  {
   "cell_type": "code",
   "execution_count": 118,
   "id": "2c114d84-61fe-4d7c-8c50-76134a3f1242",
   "metadata": {},
   "outputs": [
    {
     "name": "stdout",
     "output_type": "stream",
     "text": [
      "[1, 4, 3]\n"
     ]
    }
   ],
   "source": [
    "x.remove(2)\n",
    "print(x)"
   ]
  },
  {
   "cell_type": "code",
   "execution_count": 124,
   "id": "e29f662e-3fdc-4951-a8a2-87f9c95c0020",
   "metadata": {},
   "outputs": [
    {
     "name": "stdout",
     "output_type": "stream",
     "text": [
      "[1, 3]\n"
     ]
    }
   ],
   "source": [
    "x.pop(1)\n",
    "print(x)"
   ]
  },
  {
   "cell_type": "code",
   "execution_count": 128,
   "id": "9b339ada-ee78-4635-b6e0-f799e733c280",
   "metadata": {},
   "outputs": [
    {
     "name": "stdout",
     "output_type": "stream",
     "text": [
      "[3]\n"
     ]
    }
   ],
   "source": [
    "del x[0]\n",
    "print(x)"
   ]
  },
  {
   "cell_type": "markdown",
   "id": "4a4f0161-b35d-451b-ad35-fa0e445e8030",
   "metadata": {},
   "source": [
    "Join two lists and print the all item using for loop and also check is \"data\" present in list using  \"if else\" statement.      list_1 = [ 1,2,3,4,\"power\", True]   and list_2= [\"one\", \"two\",\"Three\", \"Data\", False]"
   ]
  },
  {
   "cell_type": "code",
   "execution_count": 134,
   "id": "9ab3d6ae-ceb7-42e9-8b0c-cbd316db10b1",
   "metadata": {},
   "outputs": [],
   "source": [
    "list_1 = [ 1,2,3,4,\"power\", True] \n",
    "list_2= [\"one\", \"two\",\"Three\",\"Data\",False]"
   ]
  },
  {
   "cell_type": "code",
   "execution_count": 136,
   "id": "1964efd6-e159-4459-b695-1e947cb7cf5c",
   "metadata": {},
   "outputs": [],
   "source": [
    "list_3 = list_1 + list_2"
   ]
  },
  {
   "cell_type": "code",
   "execution_count": 138,
   "id": "632f41b2-b0b4-4fc2-a5bb-1c12d39ee3a3",
   "metadata": {},
   "outputs": [
    {
     "name": "stdout",
     "output_type": "stream",
     "text": [
      "[1, 2, 3, 4, 'power', True, 'one', 'two', 'Three', 'Data', False]\n"
     ]
    }
   ],
   "source": [
    "print(list_3)"
   ]
  },
  {
   "cell_type": "code",
   "execution_count": 146,
   "id": "a706b514-a8de-4b74-bc4e-73da4da2c003",
   "metadata": {},
   "outputs": [
    {
     "name": "stdout",
     "output_type": "stream",
     "text": [
      "1\n",
      "2\n",
      "3\n",
      "4\n",
      "power\n",
      "True\n",
      "one\n",
      "two\n",
      "Three\n",
      "Data\n",
      "False\n"
     ]
    }
   ],
   "source": [
    "for i in list_3:\n",
    "    print(i)"
   ]
  },
  {
   "cell_type": "code",
   "execution_count": 150,
   "id": "cc7f737e-a134-47d0-99c6-d3e92926201d",
   "metadata": {},
   "outputs": [
    {
     "name": "stdout",
     "output_type": "stream",
     "text": [
      "yes\n"
     ]
    }
   ],
   "source": [
    "if \"Data\" in list_3:\n",
    "    print(\"yes\")\n",
    "else:\n",
    "    print(\"no\")"
   ]
  },
  {
   "cell_type": "code",
   "execution_count": null,
   "id": "61900804-101d-4922-bdb9-d32701827f29",
   "metadata": {},
   "outputs": [],
   "source": []
  }
 ],
 "metadata": {
  "kernelspec": {
   "display_name": "Python 3 (ipykernel)",
   "language": "python",
   "name": "python3"
  },
  "language_info": {
   "codemirror_mode": {
    "name": "ipython",
    "version": 3
   },
   "file_extension": ".py",
   "mimetype": "text/x-python",
   "name": "python",
   "nbconvert_exporter": "python",
   "pygments_lexer": "ipython3",
   "version": "3.12.3"
  }
 },
 "nbformat": 4,
 "nbformat_minor": 5
}
